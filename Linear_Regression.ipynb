{
 "cells": [
  {
   "cell_type": "markdown",
   "id": "76f7eee9-4cda-4250-aaba-06e6c8fa112d",
   "metadata": {},
   "source": [
    "# Implementation of linear regression"
   ]
  },
  {
   "cell_type": "code",
   "execution_count": null,
   "id": "cfb6c980-cde6-433d-b026-e7ca72bc3b67",
   "metadata": {},
   "outputs": [],
   "source": [
    "from sklearn.datasets import fetch_california_housing"
   ]
  },
  {
   "cell_type": "code",
   "execution_count": null,
   "id": "22b11d0e-8cfa-4b53-81d7-d4c2b3b876f1",
   "metadata": {},
   "outputs": [],
   "source": [
    "data=fetch_california_housing()"
   ]
  },
  {
   "cell_type": "code",
   "execution_count": null,
   "id": "45849a0e-6671-405c-ae5a-8ff4a62ccc5c",
   "metadata": {},
   "outputs": [],
   "source": [
    "data.keys()"
   ]
  },
  {
   "cell_type": "code",
   "execution_count": null,
   "id": "6645e3cf-6ca2-4e05-ae03-b705dbb4b69c",
   "metadata": {},
   "outputs": [],
   "source": [
    "print(data.DESCR)"
   ]
  },
  {
   "cell_type": "code",
   "execution_count": null,
   "id": "74db8e1e-89ac-47b9-a666-501d23b8764d",
   "metadata": {},
   "outputs": [],
   "source": [
    "data.data"
   ]
  },
  {
   "cell_type": "code",
   "execution_count": null,
   "id": "bf984710-d544-4087-8519-dd61beeb06a0",
   "metadata": {},
   "outputs": [],
   "source": [
    "print(data.feature_names)"
   ]
  },
  {
   "cell_type": "code",
   "execution_count": null,
   "id": "88e59d15-0df2-4539-b4d7-75a4286a192f",
   "metadata": {},
   "outputs": [],
   "source": [
    "import pandas as pd\n",
    "import numpy as np"
   ]
  },
  {
   "cell_type": "code",
   "execution_count": null,
   "id": "d303fb86-2bed-4ac7-ae44-beb453cee357",
   "metadata": {},
   "outputs": [],
   "source": [
    "type(data)"
   ]
  },
  {
   "cell_type": "code",
   "execution_count": null,
   "id": "3f20fb89-108b-4fb7-9b2d-5030d5796b9a",
   "metadata": {},
   "outputs": [],
   "source": [
    "df=pd.DataFrame(data.data,columns=data.feature_names)"
   ]
  },
  {
   "cell_type": "code",
   "execution_count": null,
   "id": "aef39526-a055-4a4b-b6ff-bda0a5bf4b91",
   "metadata": {},
   "outputs": [],
   "source": [
    "df.head()"
   ]
  },
  {
   "cell_type": "code",
   "execution_count": null,
   "id": "fd564ebf-95bb-4485-b1b5-9f71a7c386e9",
   "metadata": {},
   "outputs": [],
   "source": [
    "df['Price']=data.target"
   ]
  },
  {
   "cell_type": "code",
   "execution_count": null,
   "id": "dffcb11d-500b-40ba-883f-81f8506220fd",
   "metadata": {},
   "outputs": [],
   "source": [
    "df.head()"
   ]
  },
  {
   "cell_type": "code",
   "execution_count": null,
   "id": "da814e03-b78d-43fe-9e14-972f2cee7f4d",
   "metadata": {},
   "outputs": [],
   "source": [
    "df.describe()"
   ]
  },
  {
   "cell_type": "code",
   "execution_count": null,
   "id": "ec74e7e3-5d10-4f6d-92a0-b87718b3ba52",
   "metadata": {},
   "outputs": [],
   "source": [
    "df.isnull().sum()"
   ]
  },
  {
   "cell_type": "code",
   "execution_count": null,
   "id": "b50b9516-4f55-438f-918e-3248617e1ccc",
   "metadata": {},
   "outputs": [],
   "source": [
    "df.info()"
   ]
  },
  {
   "cell_type": "code",
   "execution_count": null,
   "id": "ded88b24-64b6-43fe-ab5b-45415633c1ea",
   "metadata": {},
   "outputs": [],
   "source": [
    "import seaborn as sns"
   ]
  },
  {
   "cell_type": "code",
   "execution_count": null,
   "id": "c8dd1eb1-68b0-4775-a6d8-81f3e68d03af",
   "metadata": {},
   "outputs": [],
   "source": [
    "df_copy=df.sample(frac=0.25)"
   ]
  },
  {
   "cell_type": "code",
   "execution_count": null,
   "id": "3e604f6f-fd60-4002-91d2-46b0e6c346a8",
   "metadata": {},
   "outputs": [],
   "source": [
    "df_copy.shape"
   ]
  },
  {
   "cell_type": "code",
   "execution_count": null,
   "id": "0ca01e00-c112-4c1c-ae23-eaa660bc8081",
   "metadata": {},
   "outputs": [],
   "source": [
    "sns.pairplot(df_copy)"
   ]
  },
  {
   "cell_type": "code",
   "execution_count": null,
   "id": "c9112944-08a8-4064-8569-ab6c6a306f7a",
   "metadata": {},
   "outputs": [],
   "source": [
    "x=df.iloc[:,:-1]\n",
    "y=df.iloc[:,-1]"
   ]
  },
  {
   "cell_type": "code",
   "execution_count": null,
   "id": "41cc4200-3587-49cf-a584-68fb2c2fe363",
   "metadata": {},
   "outputs": [],
   "source": [
    "from sklearn.model_selection import train_test_split"
   ]
  },
  {
   "cell_type": "code",
   "execution_count": null,
   "id": "da51233f-e043-4101-805a-91b32dfc9ba2",
   "metadata": {},
   "outputs": [],
   "source": [
    "x_train,x_test,y_train,y_test=train_test_split(x,y,test_size=0.33,random_state=42)"
   ]
  },
  {
   "cell_type": "code",
   "execution_count": null,
   "id": "02cd4ebd-8a48-4113-9c77-81dfdb535e77",
   "metadata": {},
   "outputs": [],
   "source": [
    "from sklearn.preprocessing import StandardScaler"
   ]
  },
  {
   "cell_type": "code",
   "execution_count": null,
   "id": "5a90f357-a591-4eba-88a4-0d538580238b",
   "metadata": {},
   "outputs": [],
   "source": [
    "scaler=StandardScaler()"
   ]
  },
  {
   "cell_type": "code",
   "execution_count": null,
   "id": "4590e2c4-c821-44e8-b7e9-374dc5741b2c",
   "metadata": {},
   "outputs": [],
   "source": [
    "x_train=scaler.fit_transform(x_train)"
   ]
  },
  {
   "cell_type": "code",
   "execution_count": null,
   "id": "ba724aae-7daf-48b6-8a1f-090f2e05426e",
   "metadata": {},
   "outputs": [],
   "source": [
    "x_test=scaler.transform(x_test)"
   ]
  },
  {
   "cell_type": "code",
   "execution_count": null,
   "id": "61026e0e-4eb7-4531-8f7e-31164906763c",
   "metadata": {},
   "outputs": [],
   "source": [
    "from sklearn.linear_model import LinearRegression"
   ]
  },
  {
   "cell_type": "code",
   "execution_count": null,
   "id": "14a0f35e-62f9-46c9-b186-3ee1508ff720",
   "metadata": {},
   "outputs": [],
   "source": [
    "regression=LinearRegression()"
   ]
  },
  {
   "cell_type": "code",
   "execution_count": null,
   "id": "dad82908-e4aa-4e09-ba86-d4f9afb89f1e",
   "metadata": {},
   "outputs": [],
   "source": [
    "regression.fit(x_train,y_train)"
   ]
  },
  {
   "cell_type": "code",
   "execution_count": null,
   "id": "d9aaa0e5-0eda-41d7-a06e-7814748a2bed",
   "metadata": {},
   "outputs": [],
   "source": [
    "regression.coef_"
   ]
  },
  {
   "cell_type": "code",
   "execution_count": null,
   "id": "7e059da1-c062-4ee4-af18-d37f1ed60026",
   "metadata": {},
   "outputs": [],
   "source": [
    "regression.intercept_"
   ]
  },
  {
   "cell_type": "code",
   "execution_count": null,
   "id": "fcc46145-5df2-4139-916f-aa0c53d36f1d",
   "metadata": {},
   "outputs": [],
   "source": [
    "y_pred=regression.predict(x_test)"
   ]
  },
  {
   "cell_type": "code",
   "execution_count": null,
   "id": "9eaaaf27-b72c-4220-acbc-6e1ddf129e52",
   "metadata": {},
   "outputs": [],
   "source": [
    "from sklearn.metrics import mean_absolute_error,mean_squared_error"
   ]
  },
  {
   "cell_type": "code",
   "execution_count": null,
   "id": "2b7f058a-870c-4529-866a-a1adf910bb24",
   "metadata": {},
   "outputs": [],
   "source": [
    "mse=mean_squared_error(y_test,y_pred)"
   ]
  },
  {
   "cell_type": "code",
   "execution_count": null,
   "id": "e69d72a1-fbef-4aba-912d-53124d9a5da8",
   "metadata": {},
   "outputs": [],
   "source": [
    "print(mse)"
   ]
  },
  {
   "cell_type": "code",
   "execution_count": null,
   "id": "3199d961-0e54-41ba-bdb8-8774cb95fc31",
   "metadata": {},
   "outputs": [],
   "source": [
    "mae=mean_absolute_error(y_test,y_pred)\n",
    "print(mae)"
   ]
  },
  {
   "cell_type": "code",
   "execution_count": null,
   "id": "41462cf0-49e0-4579-86be-65c2414b0be2",
   "metadata": {},
   "outputs": [],
   "source": [
    "rmse=np.sqrt(mse)\n",
    "print(rmse)"
   ]
  },
  {
   "cell_type": "code",
   "execution_count": null,
   "id": "6d7315b9-19b9-4a0d-a649-88829357dc59",
   "metadata": {},
   "outputs": [],
   "source": [
    "from sklearn.metrics import r2_score"
   ]
  },
  {
   "cell_type": "code",
   "execution_count": null,
   "id": "2545cb2a-8a7f-4bac-98d9-cf5d971560ff",
   "metadata": {},
   "outputs": [],
   "source": [
    "accuracy=r2_score(y_test,y_pred)"
   ]
  },
  {
   "cell_type": "code",
   "execution_count": null,
   "id": "a6ab12ae-a8e0-4c55-8862-e83688d2b621",
   "metadata": {},
   "outputs": [],
   "source": [
    "accuracy"
   ]
  },
  {
   "cell_type": "code",
   "execution_count": null,
   "id": "1feffe45-5281-4c53-82a5-171fd9c259b5",
   "metadata": {},
   "outputs": [],
   "source": [
    "from sklearn.linear_model import Ridge"
   ]
  },
  {
   "cell_type": "code",
   "execution_count": null,
   "id": "3b94074a-4ede-419f-aa6a-923328328f3e",
   "metadata": {},
   "outputs": [],
   "source": [
    "ridge=Ridge()"
   ]
  },
  {
   "cell_type": "code",
   "execution_count": null,
   "id": "3489dc4b-b94b-4504-930b-b2e038e122c4",
   "metadata": {},
   "outputs": [],
   "source": [
    "ridge.fit(x_train,y_train)"
   ]
  },
  {
   "cell_type": "code",
   "execution_count": null,
   "id": "c5fa4095-7e58-4a7b-9d4a-3324e1c432f8",
   "metadata": {},
   "outputs": [],
   "source": [
    "y_pred=ridge.predict(x_test)"
   ]
  },
  {
   "cell_type": "code",
   "execution_count": null,
   "id": "4f393cdb-89ec-456e-982c-60d059b044b6",
   "metadata": {},
   "outputs": [],
   "source": [
    "mse=mean_squared_error(y_test,y_pred)\n",
    "print(mse)\n",
    "mae=mean_absolute_error(y_test,y_pred)\n",
    "print(mae)\n",
    "rmse=np.sqrt(mse)\n",
    "print(rmse)\n",
    "accuracy=r2_score(y_test,y_pred)\n",
    "print(accuracy)"
   ]
  },
  {
   "cell_type": "code",
   "execution_count": null,
   "id": "4a0b23f3-b9d3-43b6-b58f-becdeef2756e",
   "metadata": {},
   "outputs": [],
   "source": [
    "from sklearn.linear_model import Lasso"
   ]
  },
  {
   "cell_type": "code",
   "execution_count": null,
   "id": "46707938-aace-4900-a50f-d39da744a717",
   "metadata": {},
   "outputs": [],
   "source": [
    "lasso=Lasso()"
   ]
  },
  {
   "cell_type": "code",
   "execution_count": null,
   "id": "3a527fb4-2caf-4b33-a480-643dd8015b31",
   "metadata": {},
   "outputs": [],
   "source": [
    "lasso.fit(x_train,y_train)"
   ]
  },
  {
   "cell_type": "code",
   "execution_count": null,
   "id": "d9d0c081-127e-4012-b3bd-1aa1d32f19e6",
   "metadata": {},
   "outputs": [],
   "source": [
    "y_pred=lasso.predict(x_test)"
   ]
  },
  {
   "cell_type": "code",
   "execution_count": null,
   "id": "9d877b56-0acd-4ac9-bc25-9584d5a3b99c",
   "metadata": {},
   "outputs": [],
   "source": [
    "mse=mean_squared_error(y_test,y_pred)\n",
    "print(mse)\n",
    "mae=mean_absolute_error(y_test,y_pred)\n",
    "print(mae)\n",
    "rmse=np.sqrt(mse)\n",
    "print(rmse)\n",
    "accuracy=r2_score(y_test,y_pred)\n",
    "print(accuracy)"
   ]
  },
  {
   "cell_type": "code",
   "execution_count": null,
   "id": "a521992e-dccb-4972-b271-7e84a344d5a6",
   "metadata": {},
   "outputs": [],
   "source": [
    "from sklearn.linear_model import ElasticNet"
   ]
  },
  {
   "cell_type": "code",
   "execution_count": null,
   "id": "82899b47-89e3-40c4-b524-42f3c2461b45",
   "metadata": {},
   "outputs": [],
   "source": [
    "elastic=ElasticNet()"
   ]
  },
  {
   "cell_type": "code",
   "execution_count": null,
   "id": "64043432-02ba-4554-9c6b-65d96831107a",
   "metadata": {},
   "outputs": [],
   "source": [
    "elastic.fit(x_train,y_train)"
   ]
  },
  {
   "cell_type": "code",
   "execution_count": null,
   "id": "021cda5c-d2dc-4f78-869b-037af1c0631b",
   "metadata": {},
   "outputs": [],
   "source": [
    "y_pred=elastic.predict(x_test)"
   ]
  },
  {
   "cell_type": "code",
   "execution_count": null,
   "id": "1d9541b2-07ee-4cb0-b825-35a1a1689e16",
   "metadata": {},
   "outputs": [],
   "source": [
    "mse=mean_squared_error(y_test,y_pred)\n",
    "print(mse)\n",
    "mae=mean_absolute_error(y_test,y_pred)\n",
    "print(mae)\n",
    "rmse=np.sqrt(mse)\n",
    "print(rmse)\n",
    "accuracy=r2_score(y_test,y_pred)\n",
    "print(accuracy)"
   ]
  },
  {
   "cell_type": "code",
   "execution_count": null,
   "id": "0c0ecfac-a21f-47fe-89dd-2cb773e461d1",
   "metadata": {},
   "outputs": [],
   "source": []
  }
 ],
 "metadata": {
  "kernelspec": {
   "display_name": "Python 3 (ipykernel)",
   "language": "python",
   "name": "python3"
  },
  "language_info": {
   "codemirror_mode": {
    "name": "ipython",
    "version": 3
   },
   "file_extension": ".py",
   "mimetype": "text/x-python",
   "name": "python",
   "nbconvert_exporter": "python",
   "pygments_lexer": "ipython3",
   "version": "3.10.6"
  }
 },
 "nbformat": 4,
 "nbformat_minor": 5
}
