{
 "cells": [
  {
   "cell_type": "code",
   "execution_count": 1,
   "id": "aa3d066b-d0a2-4545-b561-9708a4e1d47f",
   "metadata": {},
   "outputs": [],
   "source": [
    "import seaborn as sns\n",
    "import pandas as pd\n",
    "import numpy as np"
   ]
  },
  {
   "cell_type": "code",
   "execution_count": 2,
   "id": "91a6c308-adb8-4a51-a195-4d7e64f287a2",
   "metadata": {},
   "outputs": [],
   "source": [
    "df=sns.load_dataset('tips')"
   ]
  },
  {
   "cell_type": "code",
   "execution_count": 3,
   "id": "037446a3-3b42-4658-8c5f-c3c7d55de263",
   "metadata": {},
   "outputs": [
    {
     "data": {
      "text/plain": [
       "['Sun', 'Sat', 'Thur', 'Fri']\n",
       "Categories (4, object): ['Thur', 'Fri', 'Sat', 'Sun']"
      ]
     },
     "execution_count": 3,
     "metadata": {},
     "output_type": "execute_result"
    }
   ],
   "source": [
    "df['day'].unique()"
   ]
  },
  {
   "cell_type": "code",
   "execution_count": 4,
   "id": "7090d5f4-fdf5-4e86-b2f1-18a3c0a8171b",
   "metadata": {},
   "outputs": [
    {
     "data": {
      "text/plain": [
       "['Dinner', 'Lunch']\n",
       "Categories (2, object): ['Lunch', 'Dinner']"
      ]
     },
     "execution_count": 4,
     "metadata": {},
     "output_type": "execute_result"
    }
   ],
   "source": [
    "df['time'].unique()"
   ]
  },
  {
   "cell_type": "code",
   "execution_count": 5,
   "id": "6939fee3-1b1d-4e32-8137-06c5d40f1bb1",
   "metadata": {},
   "outputs": [
    {
     "data": {
      "text/plain": [
       "total_bill    0\n",
       "tip           0\n",
       "sex           0\n",
       "smoker        0\n",
       "day           0\n",
       "time          0\n",
       "size          0\n",
       "dtype: int64"
      ]
     },
     "execution_count": 5,
     "metadata": {},
     "output_type": "execute_result"
    }
   ],
   "source": [
    "df.isnull().sum()"
   ]
  },
  {
   "cell_type": "code",
   "execution_count": 6,
   "id": "30f581b9-9466-4383-81cf-89ff433e0aba",
   "metadata": {},
   "outputs": [],
   "source": [
    "from sklearn.preprocessing import LabelEncoder"
   ]
  },
  {
   "cell_type": "code",
   "execution_count": 7,
   "id": "ade4d4c8-4280-419f-8823-83be2cfdbca1",
   "metadata": {},
   "outputs": [],
   "source": [
    "encoder=LabelEncoder()"
   ]
  },
  {
   "cell_type": "code",
   "execution_count": 12,
   "id": "f62099f1-53d7-4429-8244-b45eed3b903e",
   "metadata": {},
   "outputs": [],
   "source": [
    "df['time']=encoder.fit_transform(df['time'])"
   ]
  },
  {
   "cell_type": "code",
   "execution_count": 13,
   "id": "113e790b-fcf2-4e2e-9f38-c0106e8221dc",
   "metadata": {},
   "outputs": [],
   "source": [
    "x=df.drop(labels=['time'],axis=1)"
   ]
  },
  {
   "cell_type": "code",
   "execution_count": 14,
   "id": "bc83b40e-b998-45c8-9b2a-b6cc52385b4e",
   "metadata": {},
   "outputs": [],
   "source": [
    "y=df.time"
   ]
  },
  {
   "cell_type": "code",
   "execution_count": 18,
   "id": "80a4a0c2-c140-49b9-837a-fefc3fc67b7e",
   "metadata": {},
   "outputs": [],
   "source": [
    "from sklearn.model_selection import train_test_split"
   ]
  },
  {
   "cell_type": "code",
   "execution_count": 19,
   "id": "e5ae5a04-049b-4d91-a5a7-ba09bd3bc214",
   "metadata": {},
   "outputs": [],
   "source": [
    "x_train,x_test,y_train,y_test=train_test_split(x,y,test_size=0.2,random_state=69)"
   ]
  },
  {
   "cell_type": "code",
   "execution_count": 21,
   "id": "42176c90-5b03-4c17-aafc-7b9c10712571",
   "metadata": {},
   "outputs": [],
   "source": [
    "from sklearn.pipeline import Pipeline\n",
    "from sklearn.impute import SimpleImputer\n",
    "from sklearn.compose import ColumnTransformer\n",
    "from sklearn.preprocessing import StandardScaler\n",
    "from sklearn.preprocessing import OneHotEncoder"
   ]
  },
  {
   "cell_type": "code",
   "execution_count": 24,
   "id": "59ad3d37-0c9f-4249-bf38-2bfeaa63410e",
   "metadata": {},
   "outputs": [
    {
     "name": "stdout",
     "output_type": "stream",
     "text": [
      "<class 'pandas.core.frame.DataFrame'>\n",
      "Int64Index: 195 entries, 211 to 54\n",
      "Data columns (total 6 columns):\n",
      " #   Column      Non-Null Count  Dtype   \n",
      "---  ------      --------------  -----   \n",
      " 0   total_bill  195 non-null    float64 \n",
      " 1   tip         195 non-null    float64 \n",
      " 2   sex         195 non-null    category\n",
      " 3   smoker      195 non-null    category\n",
      " 4   day         195 non-null    category\n",
      " 5   size        195 non-null    int64   \n",
      "dtypes: category(3), float64(2), int64(1)\n",
      "memory usage: 7.1 KB\n"
     ]
    }
   ],
   "source": [
    "x_train.info()"
   ]
  },
  {
   "cell_type": "code",
   "execution_count": 25,
   "id": "89f63f47-7cd3-4d88-9bb1-671fc86f7dca",
   "metadata": {},
   "outputs": [],
   "source": [
    "cat_col=['sex','smoker','day']\n",
    "num_col=['total_bill','tip','size']"
   ]
  },
  {
   "cell_type": "code",
   "execution_count": 32,
   "id": "086141d1-27b4-4f51-9413-c386d66e01fc",
   "metadata": {},
   "outputs": [],
   "source": [
    "cat_pipeline=Pipeline(\n",
    "    steps=[\n",
    "        (\"imputer\",SimpleImputer(strategy=\"most_frequent\")),\n",
    "        (\"encoder\",OneHotEncoder())\n",
    "    ]\n",
    "\n",
    ")\n",
    "num_pipeline=Pipeline(\n",
    "    steps=[\n",
    "        (\"imputer\",SimpleImputer(strategy=\"median\")),\n",
    "         (\"scaler\",StandardScaler())\n",
    "    ]\n",
    ")"
   ]
  },
  {
   "cell_type": "code",
   "execution_count": 33,
   "id": "cbfc60c5-a74a-4ad6-a795-d04cd7307f38",
   "metadata": {},
   "outputs": [],
   "source": [
    "preprocesor=ColumnTransformer([\n",
    "    (\"num_pipeline\",num_pipeline,num_col),\n",
    "    (\"cat_pipeline\",cat_pipeline,cat_col)\n",
    "])"
   ]
  },
  {
   "cell_type": "code",
   "execution_count": 34,
   "id": "1e33ef4b-da3b-43c9-a3c5-b4aecc81ff79",
   "metadata": {},
   "outputs": [],
   "source": [
    "x_train=preprocesor.fit_transform(x_train)\n",
    "x_test=preprocesor.transform(x_test)"
   ]
  },
  {
   "cell_type": "code",
   "execution_count": 36,
   "id": "917f353c-9dc0-46de-8072-88450bb5964e",
   "metadata": {},
   "outputs": [],
   "source": [
    "from sklearn.ensemble import RandomForestClassifier\n",
    "from sklearn.tree import DecisionTreeClassifier\n",
    "from sklearn.linear_model import LogisticRegression\n"
   ]
  },
  {
   "cell_type": "code",
   "execution_count": 37,
   "id": "9b2a96ae-028f-466e-b14e-0fdc91c443ff",
   "metadata": {},
   "outputs": [],
   "source": [
    "models={\n",
    "    \"random_forest\":RandomForestClassifier(),\n",
    "    \"logistic_regression\":LogisticRegression(),\n",
    "    \"decision_tree\":DecisionTreeClassifier()\n",
    "}"
   ]
  },
  {
   "cell_type": "code",
   "execution_count": 63,
   "id": "e0352840-092f-4319-be89-fbf12beb0b25",
   "metadata": {},
   "outputs": [],
   "source": [
    "def eval_model(x_train,x_test,y_train,y_test,models):\n",
    "    report={}\n",
    "    for i in range(len(models)):\n",
    "        \n",
    "        model=list(models.values())[i]\n",
    "        model.fit(x_train,y_train)\n",
    "        print(model.score(x_train,y_train))\n",
    "        y_pred=model.predict(x_test)\n",
    "        accuracy=accuracy_score(y_test,y_pred)\n",
    "        report[list(models.keys())[i]]=accuracy\n",
    "    return report\n",
    "    "
   ]
  },
  {
   "cell_type": "code",
   "execution_count": 64,
   "id": "5aec9f71-c0a0-4d46-b1b5-c2e16170e082",
   "metadata": {},
   "outputs": [],
   "source": [
    "from sklearn.metrics import accuracy_score"
   ]
  },
  {
   "cell_type": "code",
   "execution_count": 65,
   "id": "83b95e50-4534-4cd0-b9ec-92bf3511a451",
   "metadata": {},
   "outputs": [
    {
     "name": "stdout",
     "output_type": "stream",
     "text": [
      "1.0\n",
      "0.9794871794871794\n",
      "1.0\n"
     ]
    },
    {
     "data": {
      "text/plain": [
       "{'random_forest': 0.9183673469387755,\n",
       " 'logistic_regression': 0.8979591836734694,\n",
       " 'decision_tree': 0.9387755102040817}"
      ]
     },
     "execution_count": 65,
     "metadata": {},
     "output_type": "execute_result"
    }
   ],
   "source": [
    "eval_model(x_train,x_test,y_train,y_test,models)"
   ]
  },
  {
   "cell_type": "code",
   "execution_count": 70,
   "id": "921d2c59-6009-43c1-a675-7ede0268da26",
   "metadata": {},
   "outputs": [],
   "source": [
    "params={\n",
    "    \"n_estimators\":[50,100,200],\n",
    "    \"criterion\":[\"gini\",\"entropy\"],\n",
    "    \"max_depth\":[3,5,10]\n",
    "}"
   ]
  },
  {
   "cell_type": "code",
   "execution_count": 71,
   "id": "4ecdbd95-6bcb-4bc8-827a-3671abcaf8cd",
   "metadata": {},
   "outputs": [],
   "source": [
    "from sklearn.model_selection import RandomizedSearchCV"
   ]
  },
  {
   "cell_type": "code",
   "execution_count": 72,
   "id": "9db3a874-05d3-4795-8b17-ba58f6a88834",
   "metadata": {},
   "outputs": [],
   "source": [
    "cv=RandomizedSearchCV(estimator=RandomForestClassifier(),param_distributions=params,cv=5,verbose=3,scoring=\"accuracy\")"
   ]
  },
  {
   "cell_type": "code",
   "execution_count": 73,
   "id": "e821579e-c361-44ec-8075-c27bcf185e67",
   "metadata": {},
   "outputs": [
    {
     "name": "stdout",
     "output_type": "stream",
     "text": [
      "Fitting 5 folds for each of 10 candidates, totalling 50 fits\n",
      "[CV 1/5] END criterion=gini, max_depth=5, n_estimators=200;, score=1.000 total time=   0.3s\n",
      "[CV 2/5] END criterion=gini, max_depth=5, n_estimators=200;, score=0.949 total time=   0.3s\n",
      "[CV 3/5] END criterion=gini, max_depth=5, n_estimators=200;, score=1.000 total time=   0.3s\n",
      "[CV 4/5] END criterion=gini, max_depth=5, n_estimators=200;, score=0.923 total time=   0.3s\n",
      "[CV 5/5] END criterion=gini, max_depth=5, n_estimators=200;, score=1.000 total time=   0.3s\n",
      "[CV 1/5] END criterion=entropy, max_depth=10, n_estimators=200;, score=1.000 total time=   0.3s\n",
      "[CV 2/5] END criterion=entropy, max_depth=10, n_estimators=200;, score=0.923 total time=   0.3s\n",
      "[CV 3/5] END criterion=entropy, max_depth=10, n_estimators=200;, score=1.000 total time=   0.3s\n",
      "[CV 4/5] END criterion=entropy, max_depth=10, n_estimators=200;, score=0.923 total time=   0.3s\n",
      "[CV 5/5] END criterion=entropy, max_depth=10, n_estimators=200;, score=0.974 total time=   0.3s\n",
      "[CV 1/5] END criterion=gini, max_depth=3, n_estimators=200;, score=1.000 total time=   0.3s\n",
      "[CV 2/5] END criterion=gini, max_depth=3, n_estimators=200;, score=0.974 total time=   0.3s\n",
      "[CV 3/5] END criterion=gini, max_depth=3, n_estimators=200;, score=0.974 total time=   0.3s\n",
      "[CV 4/5] END criterion=gini, max_depth=3, n_estimators=200;, score=0.923 total time=   0.3s\n",
      "[CV 5/5] END criterion=gini, max_depth=3, n_estimators=200;, score=0.974 total time=   0.3s\n",
      "[CV 1/5] END criterion=gini, max_depth=5, n_estimators=50;, score=1.000 total time=   0.1s\n",
      "[CV 2/5] END criterion=gini, max_depth=5, n_estimators=50;, score=0.949 total time=   0.1s\n",
      "[CV 3/5] END criterion=gini, max_depth=5, n_estimators=50;, score=1.000 total time=   0.1s\n",
      "[CV 4/5] END criterion=gini, max_depth=5, n_estimators=50;, score=0.923 total time=   0.1s\n",
      "[CV 5/5] END criterion=gini, max_depth=5, n_estimators=50;, score=0.974 total time=   0.1s\n",
      "[CV 1/5] END criterion=entropy, max_depth=10, n_estimators=50;, score=1.000 total time=   0.1s\n",
      "[CV 2/5] END criterion=entropy, max_depth=10, n_estimators=50;, score=0.949 total time=   0.1s\n",
      "[CV 3/5] END criterion=entropy, max_depth=10, n_estimators=50;, score=1.000 total time=   0.1s\n",
      "[CV 4/5] END criterion=entropy, max_depth=10, n_estimators=50;, score=0.923 total time=   0.1s\n",
      "[CV 5/5] END criterion=entropy, max_depth=10, n_estimators=50;, score=1.000 total time=   0.1s\n",
      "[CV 1/5] END criterion=gini, max_depth=10, n_estimators=50;, score=1.000 total time=   0.1s\n",
      "[CV 2/5] END criterion=gini, max_depth=10, n_estimators=50;, score=0.949 total time=   0.1s\n",
      "[CV 3/5] END criterion=gini, max_depth=10, n_estimators=50;, score=1.000 total time=   0.1s\n",
      "[CV 4/5] END criterion=gini, max_depth=10, n_estimators=50;, score=0.923 total time=   0.1s\n",
      "[CV 5/5] END criterion=gini, max_depth=10, n_estimators=50;, score=1.000 total time=   0.1s\n",
      "[CV 1/5] END criterion=entropy, max_depth=5, n_estimators=100;, score=1.000 total time=   0.1s\n",
      "[CV 2/5] END criterion=entropy, max_depth=5, n_estimators=100;, score=0.949 total time=   0.1s\n",
      "[CV 3/5] END criterion=entropy, max_depth=5, n_estimators=100;, score=1.000 total time=   0.1s\n",
      "[CV 4/5] END criterion=entropy, max_depth=5, n_estimators=100;, score=0.923 total time=   0.1s\n",
      "[CV 5/5] END criterion=entropy, max_depth=5, n_estimators=100;, score=0.974 total time=   0.1s\n",
      "[CV 1/5] END criterion=entropy, max_depth=5, n_estimators=200;, score=1.000 total time=   0.3s\n",
      "[CV 2/5] END criterion=entropy, max_depth=5, n_estimators=200;, score=0.949 total time=   0.3s\n",
      "[CV 3/5] END criterion=entropy, max_depth=5, n_estimators=200;, score=1.000 total time=   0.3s\n",
      "[CV 4/5] END criterion=entropy, max_depth=5, n_estimators=200;, score=0.923 total time=   0.3s\n",
      "[CV 5/5] END criterion=entropy, max_depth=5, n_estimators=200;, score=0.974 total time=   0.3s\n",
      "[CV 1/5] END criterion=entropy, max_depth=3, n_estimators=50;, score=1.000 total time=   0.1s\n",
      "[CV 2/5] END criterion=entropy, max_depth=3, n_estimators=50;, score=0.974 total time=   0.1s\n",
      "[CV 3/5] END criterion=entropy, max_depth=3, n_estimators=50;, score=0.974 total time=   0.1s\n",
      "[CV 4/5] END criterion=entropy, max_depth=3, n_estimators=50;, score=0.923 total time=   0.1s\n",
      "[CV 5/5] END criterion=entropy, max_depth=3, n_estimators=50;, score=0.974 total time=   0.1s\n",
      "[CV 1/5] END criterion=gini, max_depth=10, n_estimators=200;, score=1.000 total time=   0.3s\n",
      "[CV 2/5] END criterion=gini, max_depth=10, n_estimators=200;, score=0.923 total time=   0.3s\n",
      "[CV 3/5] END criterion=gini, max_depth=10, n_estimators=200;, score=1.000 total time=   0.3s\n",
      "[CV 4/5] END criterion=gini, max_depth=10, n_estimators=200;, score=0.923 total time=   0.3s\n",
      "[CV 5/5] END criterion=gini, max_depth=10, n_estimators=200;, score=1.000 total time=   0.3s\n"
     ]
    },
    {
     "data": {
      "text/html": [
       "<style>#sk-container-id-2 {color: black;background-color: white;}#sk-container-id-2 pre{padding: 0;}#sk-container-id-2 div.sk-toggleable {background-color: white;}#sk-container-id-2 label.sk-toggleable__label {cursor: pointer;display: block;width: 100%;margin-bottom: 0;padding: 0.3em;box-sizing: border-box;text-align: center;}#sk-container-id-2 label.sk-toggleable__label-arrow:before {content: \"▸\";float: left;margin-right: 0.25em;color: #696969;}#sk-container-id-2 label.sk-toggleable__label-arrow:hover:before {color: black;}#sk-container-id-2 div.sk-estimator:hover label.sk-toggleable__label-arrow:before {color: black;}#sk-container-id-2 div.sk-toggleable__content {max-height: 0;max-width: 0;overflow: hidden;text-align: left;background-color: #f0f8ff;}#sk-container-id-2 div.sk-toggleable__content pre {margin: 0.2em;color: black;border-radius: 0.25em;background-color: #f0f8ff;}#sk-container-id-2 input.sk-toggleable__control:checked~div.sk-toggleable__content {max-height: 200px;max-width: 100%;overflow: auto;}#sk-container-id-2 input.sk-toggleable__control:checked~label.sk-toggleable__label-arrow:before {content: \"▾\";}#sk-container-id-2 div.sk-estimator input.sk-toggleable__control:checked~label.sk-toggleable__label {background-color: #d4ebff;}#sk-container-id-2 div.sk-label input.sk-toggleable__control:checked~label.sk-toggleable__label {background-color: #d4ebff;}#sk-container-id-2 input.sk-hidden--visually {border: 0;clip: rect(1px 1px 1px 1px);clip: rect(1px, 1px, 1px, 1px);height: 1px;margin: -1px;overflow: hidden;padding: 0;position: absolute;width: 1px;}#sk-container-id-2 div.sk-estimator {font-family: monospace;background-color: #f0f8ff;border: 1px dotted black;border-radius: 0.25em;box-sizing: border-box;margin-bottom: 0.5em;}#sk-container-id-2 div.sk-estimator:hover {background-color: #d4ebff;}#sk-container-id-2 div.sk-parallel-item::after {content: \"\";width: 100%;border-bottom: 1px solid gray;flex-grow: 1;}#sk-container-id-2 div.sk-label:hover label.sk-toggleable__label {background-color: #d4ebff;}#sk-container-id-2 div.sk-serial::before {content: \"\";position: absolute;border-left: 1px solid gray;box-sizing: border-box;top: 0;bottom: 0;left: 50%;z-index: 0;}#sk-container-id-2 div.sk-serial {display: flex;flex-direction: column;align-items: center;background-color: white;padding-right: 0.2em;padding-left: 0.2em;position: relative;}#sk-container-id-2 div.sk-item {position: relative;z-index: 1;}#sk-container-id-2 div.sk-parallel {display: flex;align-items: stretch;justify-content: center;background-color: white;position: relative;}#sk-container-id-2 div.sk-item::before, #sk-container-id-2 div.sk-parallel-item::before {content: \"\";position: absolute;border-left: 1px solid gray;box-sizing: border-box;top: 0;bottom: 0;left: 50%;z-index: -1;}#sk-container-id-2 div.sk-parallel-item {display: flex;flex-direction: column;z-index: 1;position: relative;background-color: white;}#sk-container-id-2 div.sk-parallel-item:first-child::after {align-self: flex-end;width: 50%;}#sk-container-id-2 div.sk-parallel-item:last-child::after {align-self: flex-start;width: 50%;}#sk-container-id-2 div.sk-parallel-item:only-child::after {width: 0;}#sk-container-id-2 div.sk-dashed-wrapped {border: 1px dashed gray;margin: 0 0.4em 0.5em 0.4em;box-sizing: border-box;padding-bottom: 0.4em;background-color: white;}#sk-container-id-2 div.sk-label label {font-family: monospace;font-weight: bold;display: inline-block;line-height: 1.2em;}#sk-container-id-2 div.sk-label-container {text-align: center;}#sk-container-id-2 div.sk-container {/* jupyter's `normalize.less` sets `[hidden] { display: none; }` but bootstrap.min.css set `[hidden] { display: none !important; }` so we also need the `!important` here to be able to override the default hidden behavior on the sphinx rendered scikit-learn.org. See: https://github.com/scikit-learn/scikit-learn/issues/21755 */display: inline-block !important;position: relative;}#sk-container-id-2 div.sk-text-repr-fallback {display: none;}</style><div id=\"sk-container-id-2\" class=\"sk-top-container\"><div class=\"sk-text-repr-fallback\"><pre>RandomizedSearchCV(cv=5, estimator=RandomForestClassifier(),\n",
       "                   param_distributions={&#x27;criterion&#x27;: [&#x27;gini&#x27;, &#x27;entropy&#x27;],\n",
       "                                        &#x27;max_depth&#x27;: [3, 5, 10],\n",
       "                                        &#x27;n_estimators&#x27;: [50, 100, 200]},\n",
       "                   scoring=&#x27;accuracy&#x27;, verbose=3)</pre><b>In a Jupyter environment, please rerun this cell to show the HTML representation or trust the notebook. <br />On GitHub, the HTML representation is unable to render, please try loading this page with nbviewer.org.</b></div><div class=\"sk-container\" hidden><div class=\"sk-item sk-dashed-wrapped\"><div class=\"sk-label-container\"><div class=\"sk-label sk-toggleable\"><input class=\"sk-toggleable__control sk-hidden--visually\" id=\"sk-estimator-id-4\" type=\"checkbox\" ><label for=\"sk-estimator-id-4\" class=\"sk-toggleable__label sk-toggleable__label-arrow\">RandomizedSearchCV</label><div class=\"sk-toggleable__content\"><pre>RandomizedSearchCV(cv=5, estimator=RandomForestClassifier(),\n",
       "                   param_distributions={&#x27;criterion&#x27;: [&#x27;gini&#x27;, &#x27;entropy&#x27;],\n",
       "                                        &#x27;max_depth&#x27;: [3, 5, 10],\n",
       "                                        &#x27;n_estimators&#x27;: [50, 100, 200]},\n",
       "                   scoring=&#x27;accuracy&#x27;, verbose=3)</pre></div></div></div><div class=\"sk-parallel\"><div class=\"sk-parallel-item\"><div class=\"sk-item\"><div class=\"sk-label-container\"><div class=\"sk-label sk-toggleable\"><input class=\"sk-toggleable__control sk-hidden--visually\" id=\"sk-estimator-id-5\" type=\"checkbox\" ><label for=\"sk-estimator-id-5\" class=\"sk-toggleable__label sk-toggleable__label-arrow\">estimator: RandomForestClassifier</label><div class=\"sk-toggleable__content\"><pre>RandomForestClassifier()</pre></div></div></div><div class=\"sk-serial\"><div class=\"sk-item\"><div class=\"sk-estimator sk-toggleable\"><input class=\"sk-toggleable__control sk-hidden--visually\" id=\"sk-estimator-id-6\" type=\"checkbox\" ><label for=\"sk-estimator-id-6\" class=\"sk-toggleable__label sk-toggleable__label-arrow\">RandomForestClassifier</label><div class=\"sk-toggleable__content\"><pre>RandomForestClassifier()</pre></div></div></div></div></div></div></div></div></div></div>"
      ],
      "text/plain": [
       "RandomizedSearchCV(cv=5, estimator=RandomForestClassifier(),\n",
       "                   param_distributions={'criterion': ['gini', 'entropy'],\n",
       "                                        'max_depth': [3, 5, 10],\n",
       "                                        'n_estimators': [50, 100, 200]},\n",
       "                   scoring='accuracy', verbose=3)"
      ]
     },
     "execution_count": 73,
     "metadata": {},
     "output_type": "execute_result"
    }
   ],
   "source": [
    "cv.fit(x_train,y_train)"
   ]
  },
  {
   "cell_type": "code",
   "execution_count": 74,
   "id": "032a2a68-4cea-4b2b-b675-fdfd56009001",
   "metadata": {},
   "outputs": [
    {
     "data": {
      "text/plain": [
       "{'n_estimators': 200, 'max_depth': 5, 'criterion': 'gini'}"
      ]
     },
     "execution_count": 74,
     "metadata": {},
     "output_type": "execute_result"
    }
   ],
   "source": [
    "cv.best_params_"
   ]
  },
  {
   "cell_type": "code",
   "execution_count": 87,
   "id": "a43e53b4-54eb-4736-b77e-a7b9ef3178a9",
   "metadata": {},
   "outputs": [],
   "source": [
    "best_model=RandomForestClassifier(n_estimators= 200, max_depth= 5, criterion= 'gini')"
   ]
  },
  {
   "cell_type": "code",
   "execution_count": 88,
   "id": "fda142d4-89ab-4326-ad9b-38329ff55506",
   "metadata": {},
   "outputs": [
    {
     "data": {
      "text/html": [
       "<style>#sk-container-id-5 {color: black;background-color: white;}#sk-container-id-5 pre{padding: 0;}#sk-container-id-5 div.sk-toggleable {background-color: white;}#sk-container-id-5 label.sk-toggleable__label {cursor: pointer;display: block;width: 100%;margin-bottom: 0;padding: 0.3em;box-sizing: border-box;text-align: center;}#sk-container-id-5 label.sk-toggleable__label-arrow:before {content: \"▸\";float: left;margin-right: 0.25em;color: #696969;}#sk-container-id-5 label.sk-toggleable__label-arrow:hover:before {color: black;}#sk-container-id-5 div.sk-estimator:hover label.sk-toggleable__label-arrow:before {color: black;}#sk-container-id-5 div.sk-toggleable__content {max-height: 0;max-width: 0;overflow: hidden;text-align: left;background-color: #f0f8ff;}#sk-container-id-5 div.sk-toggleable__content pre {margin: 0.2em;color: black;border-radius: 0.25em;background-color: #f0f8ff;}#sk-container-id-5 input.sk-toggleable__control:checked~div.sk-toggleable__content {max-height: 200px;max-width: 100%;overflow: auto;}#sk-container-id-5 input.sk-toggleable__control:checked~label.sk-toggleable__label-arrow:before {content: \"▾\";}#sk-container-id-5 div.sk-estimator input.sk-toggleable__control:checked~label.sk-toggleable__label {background-color: #d4ebff;}#sk-container-id-5 div.sk-label input.sk-toggleable__control:checked~label.sk-toggleable__label {background-color: #d4ebff;}#sk-container-id-5 input.sk-hidden--visually {border: 0;clip: rect(1px 1px 1px 1px);clip: rect(1px, 1px, 1px, 1px);height: 1px;margin: -1px;overflow: hidden;padding: 0;position: absolute;width: 1px;}#sk-container-id-5 div.sk-estimator {font-family: monospace;background-color: #f0f8ff;border: 1px dotted black;border-radius: 0.25em;box-sizing: border-box;margin-bottom: 0.5em;}#sk-container-id-5 div.sk-estimator:hover {background-color: #d4ebff;}#sk-container-id-5 div.sk-parallel-item::after {content: \"\";width: 100%;border-bottom: 1px solid gray;flex-grow: 1;}#sk-container-id-5 div.sk-label:hover label.sk-toggleable__label {background-color: #d4ebff;}#sk-container-id-5 div.sk-serial::before {content: \"\";position: absolute;border-left: 1px solid gray;box-sizing: border-box;top: 0;bottom: 0;left: 50%;z-index: 0;}#sk-container-id-5 div.sk-serial {display: flex;flex-direction: column;align-items: center;background-color: white;padding-right: 0.2em;padding-left: 0.2em;position: relative;}#sk-container-id-5 div.sk-item {position: relative;z-index: 1;}#sk-container-id-5 div.sk-parallel {display: flex;align-items: stretch;justify-content: center;background-color: white;position: relative;}#sk-container-id-5 div.sk-item::before, #sk-container-id-5 div.sk-parallel-item::before {content: \"\";position: absolute;border-left: 1px solid gray;box-sizing: border-box;top: 0;bottom: 0;left: 50%;z-index: -1;}#sk-container-id-5 div.sk-parallel-item {display: flex;flex-direction: column;z-index: 1;position: relative;background-color: white;}#sk-container-id-5 div.sk-parallel-item:first-child::after {align-self: flex-end;width: 50%;}#sk-container-id-5 div.sk-parallel-item:last-child::after {align-self: flex-start;width: 50%;}#sk-container-id-5 div.sk-parallel-item:only-child::after {width: 0;}#sk-container-id-5 div.sk-dashed-wrapped {border: 1px dashed gray;margin: 0 0.4em 0.5em 0.4em;box-sizing: border-box;padding-bottom: 0.4em;background-color: white;}#sk-container-id-5 div.sk-label label {font-family: monospace;font-weight: bold;display: inline-block;line-height: 1.2em;}#sk-container-id-5 div.sk-label-container {text-align: center;}#sk-container-id-5 div.sk-container {/* jupyter's `normalize.less` sets `[hidden] { display: none; }` but bootstrap.min.css set `[hidden] { display: none !important; }` so we also need the `!important` here to be able to override the default hidden behavior on the sphinx rendered scikit-learn.org. See: https://github.com/scikit-learn/scikit-learn/issues/21755 */display: inline-block !important;position: relative;}#sk-container-id-5 div.sk-text-repr-fallback {display: none;}</style><div id=\"sk-container-id-5\" class=\"sk-top-container\"><div class=\"sk-text-repr-fallback\"><pre>RandomForestClassifier(max_depth=5, n_estimators=200)</pre><b>In a Jupyter environment, please rerun this cell to show the HTML representation or trust the notebook. <br />On GitHub, the HTML representation is unable to render, please try loading this page with nbviewer.org.</b></div><div class=\"sk-container\" hidden><div class=\"sk-item\"><div class=\"sk-estimator sk-toggleable\"><input class=\"sk-toggleable__control sk-hidden--visually\" id=\"sk-estimator-id-9\" type=\"checkbox\" checked><label for=\"sk-estimator-id-9\" class=\"sk-toggleable__label sk-toggleable__label-arrow\">RandomForestClassifier</label><div class=\"sk-toggleable__content\"><pre>RandomForestClassifier(max_depth=5, n_estimators=200)</pre></div></div></div></div></div>"
      ],
      "text/plain": [
       "RandomForestClassifier(max_depth=5, n_estimators=200)"
      ]
     },
     "execution_count": 88,
     "metadata": {},
     "output_type": "execute_result"
    }
   ],
   "source": [
    "best_model.fit(x_train,y_train)"
   ]
  },
  {
   "cell_type": "code",
   "execution_count": 89,
   "id": "0833f7ee-bbc8-474e-a1fc-be6efcf50af2",
   "metadata": {},
   "outputs": [],
   "source": [
    "y_pred1=model.predict(x_test)\n",
    "accuracy=accuracy_score(y_test,y_pred1)"
   ]
  },
  {
   "cell_type": "code",
   "execution_count": 90,
   "id": "c71605eb-e054-4723-9fd8-85a933b3fca1",
   "metadata": {},
   "outputs": [
    {
     "name": "stdout",
     "output_type": "stream",
     "text": [
      "0.9387755102040817\n"
     ]
    }
   ],
   "source": [
    "print(accuracy)"
   ]
  },
  {
   "cell_type": "code",
   "execution_count": 91,
   "id": "310d67ff-c536-4cba-9a98-c8c4f366912e",
   "metadata": {},
   "outputs": [
    {
     "data": {
      "text/plain": [
       "1.0"
      ]
     },
     "execution_count": 91,
     "metadata": {},
     "output_type": "execute_result"
    }
   ],
   "source": [
    "best_model.score(x_train,y_train)"
   ]
  },
  {
   "cell_type": "code",
   "execution_count": null,
   "id": "a4cc0aa2-f749-452c-b196-876dfd51f140",
   "metadata": {},
   "outputs": [],
   "source": []
  },
  {
   "cell_type": "code",
   "execution_count": null,
   "id": "b9f5d692-c7ef-440e-a543-773ace1a9c1a",
   "metadata": {},
   "outputs": [],
   "source": []
  }
 ],
 "metadata": {
  "kernelspec": {
   "display_name": "Python 3 (ipykernel)",
   "language": "python",
   "name": "python3"
  },
  "language_info": {
   "codemirror_mode": {
    "name": "ipython",
    "version": 3
   },
   "file_extension": ".py",
   "mimetype": "text/x-python",
   "name": "python",
   "nbconvert_exporter": "python",
   "pygments_lexer": "ipython3",
   "version": "3.10.6"
  }
 },
 "nbformat": 4,
 "nbformat_minor": 5
}
