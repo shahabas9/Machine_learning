{
 "cells": [
  {
   "cell_type": "code",
   "execution_count": null,
   "id": "de268bbb-e494-4e67-852b-d90c07e4beaf",
   "metadata": {},
   "outputs": [],
   "source": [
    "flag=True\n",
    "while flag:\n",
    "    try:\n",
    "        a=int(input())\n",
    "        if type(a)==int:\n",
    "            break\n",
    "        else:\n",
    "            continue\n",
    "    except Exception as e:\n",
    "        print(e)"
   ]
  },
  {
   "cell_type": "code",
   "execution_count": null,
   "id": "c7084ba9-0bd9-4899-9c53-7c4432680b1c",
   "metadata": {},
   "outputs": [],
   "source": [
    "if a<125:\n",
    "    raise Exception(\"its lower than a\")"
   ]
  },
  {
   "cell_type": "code",
   "execution_count": null,
   "id": "e4d189fb-9494-42ef-bc40-6dd87e56d077",
   "metadata": {},
   "outputs": [],
   "source": [
    "try:\n",
    "    if a>100:\n",
    "        raise Exception(\"its false the condition\")\n",
    "    else:\n",
    "        pass\n",
    "except Exception as e:\n",
    "    print(\"the\",e)"
   ]
  },
  {
   "cell_type": "code",
   "execution_count": 1,
   "id": "f719fb52-42f7-4669-a8c2-dbc82f0de6d2",
   "metadata": {},
   "outputs": [],
   "source": [
    "import logging"
   ]
  },
  {
   "cell_type": "code",
   "execution_count": null,
   "id": "4a8eb08c-a4c5-4ed2-b839-5dfa906add2b",
   "metadata": {},
   "outputs": [],
   "source": [
    "logging.basicConfig(filename=\"test.log\",level=logging.INFO)"
   ]
  },
  {
   "cell_type": "code",
   "execution_count": null,
   "id": "95b79284-2b73-4139-98a0-dcf33a8f71bc",
   "metadata": {},
   "outputs": [],
   "source": [
    "logging.info(\"this is my info log\")\n",
    "logging.warning(\"this is warning\")\n",
    "logging.error(\"debug text\")"
   ]
  },
  {
   "cell_type": "code",
   "execution_count": null,
   "id": "2f7ea2d2-11c3-4647-9f76-a26b68365643",
   "metadata": {},
   "outputs": [],
   "source": [
    "logging.shutdown()"
   ]
  },
  {
   "cell_type": "code",
   "execution_count": 2,
   "id": "84f221a9-0b03-45ec-bc02-cf82662164ab",
   "metadata": {},
   "outputs": [],
   "source": [
    "logging.basicConfig(filename=\"test2.log\",level=logging.DEBUG,format='%(asctime)s %(levelname)s %(message)s')"
   ]
  },
  {
   "cell_type": "code",
   "execution_count": 3,
   "id": "a64c96e4-d857-4fd0-806b-64d4ebb5af9f",
   "metadata": {},
   "outputs": [],
   "source": [
    "logging.info(\"this is my info log\")\n",
    "logging.warning(\"this is warning\")\n",
    "logging.error(\"debug text\")"
   ]
  },
  {
   "cell_type": "code",
   "execution_count": 4,
   "id": "4e511807-db45-4e16-afd4-58b54432cf42",
   "metadata": {},
   "outputs": [
    {
     "ename": "NameError",
     "evalue": "name 'e' is not defined",
     "output_type": "error",
     "traceback": [
      "\u001b[0;31m---------------------------------------------------------------------------\u001b[0m",
      "\u001b[0;31mNameError\u001b[0m                                 Traceback (most recent call last)",
      "Cell \u001b[0;32mIn [4], line 1\u001b[0m\n\u001b[0;32m----> 1\u001b[0m logging\u001b[38;5;241m.\u001b[39mexception(\u001b[43me\u001b[49m)\n",
      "\u001b[0;31mNameError\u001b[0m: name 'e' is not defined"
     ]
    }
   ],
   "source": [
    "logging.exception(e)"
   ]
  },
  {
   "cell_type": "code",
   "execution_count": null,
   "id": "8eeb6f23-3828-49a6-978c-2af7fa38207d",
   "metadata": {},
   "outputs": [],
   "source": []
  }
 ],
 "metadata": {
  "kernelspec": {
   "display_name": "Python 3 (ipykernel)",
   "language": "python",
   "name": "python3"
  },
  "language_info": {
   "codemirror_mode": {
    "name": "ipython",
    "version": 3
   },
   "file_extension": ".py",
   "mimetype": "text/x-python",
   "name": "python",
   "nbconvert_exporter": "python",
   "pygments_lexer": "ipython3",
   "version": "3.10.6"
  }
 },
 "nbformat": 4,
 "nbformat_minor": 5
}
